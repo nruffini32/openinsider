{
 "cells": [
  {
   "cell_type": "code",
   "execution_count": 1,
   "metadata": {},
   "outputs": [],
   "source": [
    "import sys\n",
    "import os\n",
    "current_dir = os.getcwd().rsplit(\"/\", 1)[0]\n",
    "sys.path.append(current_dir)\n",
    "\n",
    "from alpaca.data import StockHistoricalDataClient\n",
    "from utils import Database, InsiderScraper, config, CloudStorage\n",
    "from datetime import datetime, timedelta\n",
    "\n",
    "scraper = InsiderScraper()\n",
    "db = Database()\n",
    "stock_client = StockHistoricalDataClient(config.ALPACA_KEY,  config.ALPACA_SECRET)"
   ]
  },
  {
   "cell_type": "code",
   "execution_count": 2,
   "metadata": {},
   "outputs": [],
   "source": [
    "# Getting all tickers that have been traded and putting them in a list\n",
    "q = \"\"\"select\n",
    "distinct ticker\n",
    "from `open_insider.ticker_data`\"\"\"\n",
    "rows = db.query(q)\n",
    "tickers = []\n",
    "for row in rows:\n",
    "    ticker = row.values()[0]\n",
    "    tickers.append(ticker)\n",
    "    \n",
    "# tickers"
   ]
  },
  {
   "cell_type": "code",
   "execution_count": 4,
   "metadata": {},
   "outputs": [
    {
     "name": "stdout",
     "output_type": "stream",
     "text": [
      "Dropping and recreating 2016_ticker_data\n",
      "\n",
      "Dropping and recreating 2017_ticker_data\n",
      "\n",
      "Dropping and recreating 2018_ticker_data\n",
      "\n",
      "Dropping and recreating 2019_ticker_data\n",
      "\n",
      "Dropping and recreating 2020_ticker_data\n",
      "\n",
      "Dropping and recreating 2021_ticker_data\n",
      "\n",
      "Dropping and recreating 2022_ticker_data\n",
      "\n",
      "Dropping and recreating 2023_ticker_data\n",
      "\n",
      "Dropping and recreating 2024_ticker_data\n",
      "\n"
     ]
    }
   ],
   "source": [
    "# Creating table with final stock prices for each year\n",
    "for year in range(2016, 2025):\n",
    "    # Getting last business date of the year\n",
    "    if year == 2024:\n",
    "        eoy_date = datetime.now().date() - timedelta(1)\n",
    "    else:\n",
    "        eoy_date = f\"{year}-12-31\"\n",
    "        eoy_date = datetime.strptime(eoy_date, \"%Y-%m-%d\")\n",
    "    while eoy_date.weekday() >= 5:  # 5 and 6 represent Saturday and Sunday\n",
    "        eoy_date -= timedelta(days=1)\n",
    "\n",
    "    ticker_data = scraper.get_stock_price(stock_client, tickers, eoy_date)\n",
    "\n",
    "    table = f\"{year}_ticker_data\"\n",
    "    print(f\"Dropping and recreating {table}\\n\")\n",
    "    db.drop_table(table)\n",
    "    db.cache_new_stock(ticker_data, table)"
   ]
  },
  {
   "cell_type": "code",
   "execution_count": 7,
   "metadata": {},
   "outputs": [
    {
     "name": "stdout",
     "output_type": "stream",
     "text": [
      "2016 ROI: 91.71606623016294\n",
      "\n",
      "2017 ROI: 76.1086587511019\n",
      "\n",
      "2018 ROI: 63.459828256462224\n",
      "\n",
      "2019 ROI: 427.6977803674069\n",
      "\n",
      "2020 ROI: 109.6035223974755\n",
      "\n",
      "2021 ROI: 306.68019967270317\n",
      "\n",
      "2022 ROI: 39.17685335617192\n",
      "\n",
      "2023 ROI: 103.58932257195752\n",
      "\n",
      "2024 ROI: 19.93276257331308\n",
      "\n"
     ]
    }
   ],
   "source": [
    "# Getting ROI for each year\n",
    "for year in range(2016, 2025):\n",
    "  q = f\"\"\"\n",
    "  with grouped as (\n",
    "  select\n",
    "    tr.insider_name,\n",
    "    tr.ticker,\n",
    "    sum(price*qty) / sum(qty) as avg_cost,\n",
    "    avg(ti.close) as eoy_price\n",
    "  from \n",
    "    `open_insider.trades` tr\n",
    "  join\n",
    "    `open_insider.{year}_ticker_data` ti\n",
    "  on\n",
    "    tr.ticker = ti.ticker\n",
    "  where\n",
    "    tr.trade_type = \"P - Purchase\" and\n",
    "    extract(year from tr.filing_date) = {year}\n",
    "  group by\n",
    "    insider_name, ticker),\n",
    "  return as (\n",
    "  select\n",
    "    *,\n",
    "    ((eoy_price - avg_cost) / avg_cost) * 100 as roi\n",
    "  from\n",
    "    grouped\n",
    "  where\n",
    "    avg_cost != 0)\n",
    "\n",
    "  select\n",
    "    avg(roi)\n",
    "  from \n",
    "    return\n",
    "  \"\"\"\n",
    "\n",
    "  resp = db.query(q)\n",
    "\n",
    "  for i in resp:\n",
    "    print(f\"{year} ROI: {i.values()[0]}\")\n",
    "\n",
    "  print()"
   ]
  },
  {
   "cell_type": "code",
   "execution_count": null,
   "metadata": {},
   "outputs": [],
   "source": []
  }
 ],
 "metadata": {
  "kernelspec": {
   "display_name": "Python 3",
   "language": "python",
   "name": "python3"
  },
  "language_info": {
   "codemirror_mode": {
    "name": "ipython",
    "version": 3
   },
   "file_extension": ".py",
   "mimetype": "text/x-python",
   "name": "python",
   "nbconvert_exporter": "python",
   "pygments_lexer": "ipython3",
   "version": "3.12.2"
  }
 },
 "nbformat": 4,
 "nbformat_minor": 2
}
