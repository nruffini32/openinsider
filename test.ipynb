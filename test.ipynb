{
 "cells": [
  {
   "cell_type": "code",
   "execution_count": 1,
   "metadata": {},
   "outputs": [],
   "source": [
    "from utils import InsiderScraper"
   ]
  },
  {
   "cell_type": "code",
   "execution_count": 2,
   "metadata": {},
   "outputs": [],
   "source": [
    "# help(InsiderScraper)\n",
    "scraper = InsiderScraper()\n"
   ]
  },
  {
   "cell_type": "code",
   "execution_count": 4,
   "metadata": {},
   "outputs": [
    {
     "name": "stdout",
     "output_type": "stream",
     "text": [
      "Getting trades for: 6-2019\n",
      "4622\n"
     ]
    }
   ],
   "source": [
    "# 4681\n",
    "trades = scraper.get_trades_for_month(month=6, year=2019)\n",
    "print(len(trades))\n"
   ]
  },
  {
   "cell_type": "code",
   "execution_count": 5,
   "metadata": {},
   "outputs": [
    {
     "data": {
      "text/plain": [
       "[{'x': 'M',\n",
       "  'filing_date': '2019-06-28 21:01:20',\n",
       "  'trade_date': '2019-06-26',\n",
       "  'ticker': 'VG',\n",
       "  'company_name': 'Vonage Holdings Corp',\n",
       "  'insider_name': 'Citron Jeffrey A',\n",
       "  'title': 'Dir',\n",
       "  'trade_type': 'S - Sale',\n",
       "  'price': '$11.34',\n",
       "  'qty': '-400,000',\n",
       "  'owned': '10,715,687',\n",
       "  'change_of_owned': '-4%',\n",
       "  'value': '-$4,537,833'},\n",
       " {'x': '',\n",
       "  'filing_date': '2019-06-28 21:00:37',\n",
       "  'trade_date': '2019-06-28',\n",
       "  'ticker': 'FOXF',\n",
       "  'company_name': 'Fox Factory Holding Corp',\n",
       "  'insider_name': 'Glasman Zvi',\n",
       "  'title': 'CFO, Treasurer',\n",
       "  'trade_type': 'S - Sale',\n",
       "  'price': '$82.50',\n",
       "  'qty': '-5,000',\n",
       "  'owned': '61,601',\n",
       "  'change_of_owned': '-8%',\n",
       "  'value': '-$412,500'},\n",
       " {'x': '',\n",
       "  'filing_date': '2019-06-28 21:00:33',\n",
       "  'trade_date': '2019-06-27',\n",
       "  'ticker': 'ADI',\n",
       "  'company_name': 'Analog Devices Inc',\n",
       "  'insider_name': 'Pietkiewicz Steve',\n",
       "  'title': 'SVP, Power Products',\n",
       "  'trade_type': 'S - Sale',\n",
       "  'price': '$113.03',\n",
       "  'qty': '-7,219',\n",
       "  'owned': '34,826',\n",
       "  'change_of_owned': '-17%',\n",
       "  'value': '-$815,964'}]"
      ]
     },
     "execution_count": 5,
     "metadata": {},
     "output_type": "execute_result"
    }
   ],
   "source": [
    "trades[:3]"
   ]
  },
  {
   "cell_type": "code",
   "execution_count": null,
   "metadata": {},
   "outputs": [],
   "source": []
  }
 ],
 "metadata": {
  "kernelspec": {
   "display_name": "Python 3",
   "language": "python",
   "name": "python3"
  },
  "language_info": {
   "codemirror_mode": {
    "name": "ipython",
    "version": 3
   },
   "file_extension": ".py",
   "mimetype": "text/x-python",
   "name": "python",
   "nbconvert_exporter": "python",
   "pygments_lexer": "ipython3",
   "version": "3.12.2"
  }
 },
 "nbformat": 4,
 "nbformat_minor": 2
}
